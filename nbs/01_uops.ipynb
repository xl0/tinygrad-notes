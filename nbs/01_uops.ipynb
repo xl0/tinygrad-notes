{
 "cells": [
  {
   "cell_type": "markdown",
   "metadata": {},
   "source": [
    "# 1 - UOps"
   ]
  },
  {
   "cell_type": "markdown",
   "metadata": {},
   "source": [
    "As we saw in the previous chapter, UOps are the intermediate device-independent representation on the computation tree that sits between the user-facing `Tensor` and device-specific code that is generated to perform the computations."
   ]
  },
  {
   "cell_type": "code",
   "execution_count": null,
   "metadata": {},
   "outputs": [],
   "source": [
    "#| hide\n",
    "from nbdev.showdoc import *\n",
    "import nbdev; nbdev.nbdev_export()"
   ]
  },
  {
   "cell_type": "code",
   "execution_count": null,
   "metadata": {},
   "outputs": [],
   "source": [
    "import os\n",
    "\n",
    "os.environ[\"CPU\"] = \"1\"\n",
    "# os.environ[\"TRACEMETA\"] = \"0\"\n",
    "os.environ[\"DEBUG\"]=\"4\"\n",
    "# os.environ[\"NOOPT\"]=\"1\"\n"
   ]
  },
  {
   "cell_type": "code",
   "execution_count": null,
   "metadata": {},
   "outputs": [],
   "source": [
    "import tinygrad as tg\n",
    "from tinygrad import Tensor, dtypes"
   ]
  },
  {
   "cell_type": "markdown",
   "metadata": {},
   "source": [
    "UOp is the basic building block of TinyGrad, used to represent the computation tree that we create by manipulating Tensors:\n",
    "\n",
    "```python\n",
    "class UOp(...):\n",
    "    op:Ops\n",
    "    dtype:DType = dtypes.void\n",
    "    src:tuple[UOp, ...] = tuple()\n",
    "    arg:Any = None\n",
    "\n",
    "    ...\n",
    "```\n",
    "\n",
    "- The `op` is the type of the operation, like `ADD`, `MUL` or `CONST`\n",
    "- The `dtype` is of of the tinygrad dtypes, like `dtypes.float32` or `dtypes.uint8`\n",
    "- The `source` is a tuple of UOps this UOp operates on\n",
    "- The `arg` changes meaning depending on the `op`, for example for a `CONST` it can be a number `3.0`, or it can be the new shape for a `VIEW` op."
   ]
  },
  {
   "cell_type": "markdown",
   "metadata": {},
   "source": [
    "### UOp reference\n",
    "\n",
    "UOps are used throughout TinyGrad, some are specific to certain stages of processing (from Tensors to code), some are valid at any stage.\n",
    "\n",
    "Take a look at the [UOp Reference](uops_annotated.html) to get a feel for the UOps we have.\n"
   ]
  },
  {
   "cell_type": "markdown",
   "metadata": {},
   "source": [
    "### UOp is a singleton\n",
    "As noted by  [mesozoic-egg@github][https://mesozoic-egg.github.io/tinygrad-notes/20250119_uop_singleton.html], UOp is a singleton.\n",
    "\n",
    "It's implemented using a MetaClass:\n",
    "```python\n",
    "class UOpMetaClass(type):\n",
    "  ucache:dict[tuple, weakref.ReferenceType[UOp]] = {}\n",
    "  def __call__(cls, op:Ops, dtype:DType=dtypes.void, src:tuple[UOp,...]=tuple(), arg:Any=None, _buffer:Buffer|None=None):\n",
    "    if (wret:=UOpMetaClass.ucache.get(key:=(op, dtype, src, arg), None)) is not None and (ret:=wret()) is not None: return ret\n",
    "    UOpMetaClass.ucache[key] = ref = weakref.ref(created:=super().__call__(*key))\n",
    "    ...\n",
    "    return created\n",
    "\n",
    "@dataclass(eq=False, slots=True)\n",
    "class UOp(MathTrait, metaclass=UOpMetaClass):\n",
    "    def __del__(self):\n",
    "        if (ref:=UOpMetaClass.ucache.get(k:=(self.op, self.dtype, self.src, self.arg))) is not None:\n",
    "            ...\n",
    "            del UOpMetaClass.ucache[k]\n",
    "```\n",
    "\n",
    "(TinyGrad really loves its `:=` operators)\n",
    "\n",
    "The main idea is, if you have 2 UOp (sub-)trees, it's very easy to compare them, because the roots of both trees will be the same object if they are identical.\n"
   ]
  },
  {
   "cell_type": "code",
   "execution_count": null,
   "metadata": {},
   "outputs": [],
   "source": [
    "from tinygrad.ops import UOp, Ops"
   ]
  },
  {
   "cell_type": "code",
   "execution_count": null,
   "metadata": {},
   "outputs": [
    {
     "data": {
      "text/plain": [
       "True"
      ]
     },
     "execution_count": null,
     "metadata": {},
     "output_type": "execute_result"
    }
   ],
   "source": [
    "# Create two identical UOp trees (3 * 5 + 2)\n",
    "x1 = UOp(Ops.CONST, dtype=dtypes.int, arg=5)\n",
    "mul1 = UOp(Ops.MUL, dtype=dtypes.int, src=(UOp(Ops.CONST, dtype=dtypes.int, arg=3), x1))\n",
    "add1 = UOp(Ops.ADD, dtype=dtypes.int, src=(mul1, UOp(Ops.CONST, dtype=dtypes.int, arg=2)))\n",
    "\n",
    "# Second tree\n",
    "x2 = UOp(Ops.CONST, dtype=dtypes.int, arg=5)\n",
    "mul2 = UOp(Ops.MUL, dtype=dtypes.int, src=(UOp(Ops.CONST, dtype=dtypes.int, arg=3), x2))\n",
    "add2 = UOp(Ops.ADD, dtype=dtypes.int, src=(mul2, UOp(Ops.CONST, dtype=dtypes.int, arg=2)))\n",
    "\n",
    "id(add1) == id(add2)"
   ]
  },
  {
   "cell_type": "code",
   "execution_count": null,
   "metadata": {},
   "outputs": [
    {
     "data": {
      "text/plain": [
       "False"
      ]
     },
     "execution_count": null,
     "metadata": {},
     "output_type": "execute_result"
    }
   ],
   "source": [
    "# Third tree is different (3 * 5 + 1)\n",
    "x3 = UOp(Ops.CONST, dtype=dtypes.int, arg=5)\n",
    "mul3 = UOp(Ops.MUL, dtype=dtypes.int, src=(UOp(Ops.CONST, dtype=dtypes.int, arg=3), x3))\n",
    "add3 = UOp(Ops.ADD, dtype=dtypes.int, src=(mul3, UOp(Ops.CONST, dtype=dtypes.int, arg=1)))\n",
    "\n",
    "id(add1) == id(add3)"
   ]
  },
  {
   "cell_type": "markdown",
   "metadata": {},
   "source": [
    "### Symbolic evaluation\n",
    "\n",
    "Another cool feature of UOps - if all inputs are constants and the result is a scalar, it can be evaluated without generating any device code at all:"
   ]
  },
  {
   "cell_type": "code",
   "execution_count": null,
   "metadata": {},
   "outputs": [
    {
     "data": {
      "text/plain": [
       "UOp(Ops.ADD, dtypes.int, arg=None, src=(\n",
       "  UOp(Ops.MUL, dtypes.int, arg=None, src=(\n",
       "    UOp(Ops.CONST, dtypes.int, arg=3, src=()),\n",
       "    UOp(Ops.CONST, dtypes.int, arg=5, src=()),)),\n",
       "  UOp(Ops.CONST, dtypes.int, arg=2, src=()),))"
      ]
     },
     "execution_count": null,
     "metadata": {},
     "output_type": "execute_result"
    }
   ],
   "source": [
    "add1"
   ]
  },
  {
   "cell_type": "code",
   "execution_count": null,
   "metadata": {},
   "outputs": [
    {
     "data": {
      "text/plain": [
       "UOp(Ops.CONST, dtypes.int, arg=17, src=())"
      ]
     },
     "execution_count": null,
     "metadata": {},
     "output_type": "execute_result"
    }
   ],
   "source": [
    "add1.simplify()"
   ]
  },
  {
   "cell_type": "markdown",
   "metadata": {},
   "source": [
    "Another way to do the same - cast the UOp to float or an int depending on dtype."
   ]
  },
  {
   "cell_type": "code",
   "execution_count": null,
   "metadata": {},
   "outputs": [
    {
     "data": {
      "text/plain": [
       "17"
      ]
     },
     "execution_count": null,
     "metadata": {},
     "output_type": "execute_result"
    }
   ],
   "source": [
    "int(add1)"
   ]
  },
  {
   "cell_type": "markdown",
   "metadata": {},
   "source": [
    "### UOp.render()\n",
    "\n",
    "`.render()` converts the UOp tree into a C expression.\n",
    "\n",
    "This is not how TinyGrad generates the code normally, but it's useful for debugging.\n",
    "\n",
    "I think only scalars can "
   ]
  },
  {
   "cell_type": "code",
   "execution_count": null,
   "metadata": {},
   "outputs": [
    {
     "data": {
      "text/plain": [
       "'((3*5)+2)'"
      ]
     },
     "execution_count": null,
     "metadata": {},
     "output_type": "execute_result"
    }
   ],
   "source": [
    "add1.render(simplify=False)"
   ]
  },
  {
   "cell_type": "markdown",
   "metadata": {},
   "source": [
    "This only works for a similted subset of trees with simple operations though.\n",
    "\n",
    "If the tree can not be rendered, the function returns an str(op)."
   ]
  },
  {
   "cell_type": "markdown",
   "metadata": {},
   "source": [
    "### UOp creation helpers\n",
    "\n",
    "In many cases, the UOp class has methods for creating specific UOps. It's often more convenient and concise to use them\n",
    "\n",
    "For example `UOp.const()` creates either a `CONST` or a `VCONST` (vector const, used internally for buffers), and also takes care of the arg type matching dtype:"
   ]
  },
  {
   "cell_type": "code",
   "execution_count": null,
   "metadata": {},
   "outputs": [
    {
     "data": {
      "text/plain": [
       "UOp(Ops.CONST, dtypes.half, arg=2.0, src=())"
      ]
     },
     "execution_count": null,
     "metadata": {},
     "output_type": "execute_result"
    }
   ],
   "source": [
    "UOp.const(dtypes.float16, 2)"
   ]
  },
  {
   "cell_type": "markdown",
   "metadata": {},
   "source": [
    "Note the arg has been converted to a `float`, even though we gave it an `int`\n",
    "\n",
    "There are a few that are very straight-forward:\n",
    "```python\n",
    "\n",
    "# The SINK is the end of a computation graph\n",
    "def sink(self, *srcs:UOp): return UOp(Ops.SINK, dtypes.void, (self,)+srcs)\n",
    "\n",
    "# Detach from the backprop\n",
    "def detach(self): return UOp(Ops.DETACH, self.dtype, (self,))\n",
    "\n",
    "def cast(self, dtype:DType): return UOp(Ops.CAST, dtype, (self,))\n",
    "def bitcast(self, dtype:DType): return UOp(Ops.BITCAST, dtype, (self,))\n",
    "def load(self, *src:UOp, **kwargs): return UOp(Ops.LOAD, src=(self,)+src, **kwargs)\n",
    "def store(self, *src:UOp, **kwargs): return UOp(Ops.STORE, dtypes.void, (self,)+src, **kwargs)\n",
    "\n",
    "# The RANGE is actually a `for` loop\n",
    "def range(dtype:DType, start:sint, end:sint, idx:int): return UOp(Ops.RANGE, dtype=dtype, src=(sint_to_uop(start), sint_to_uop(end)), arg=idx)\n",
    "\n",
    "def assign(self, x:UOp): return UOp(Ops.ASSIGN, self.dtype, (self,x))\n",
    "def contiguous(self): return self.alu(Ops.CONTIGUOUS)\n",
    "def contiguous_backward(self): return self.alu(Ops.CONTIGUOUS_BACKWARD)\n",
    "\n",
    "```"
   ]
  },
  {
   "cell_type": "markdown",
   "metadata": {},
   "source": [
    "### Toposort\n",
    "\n",
    "Quite often we need to access a UOp tree in \"topological order\".\n",
    "\n",
    "`UOp.toposort` is a property function that returns a dictionary with UOps being the keys, and the values being None.\n",
    "\n",
    "> Note: This emulates a sorted Set, which Python lacks"
   ]
  },
  {
   "cell_type": "code",
   "execution_count": null,
   "metadata": {},
   "outputs": [
    {
     "name": "stdout",
     "output_type": "stream",
     "text": [
      "===== 3 * 5 + 2 =====\n",
      "Ops.CONST 3\n",
      "Ops.CONST 5\n",
      "Ops.MUL None\n",
      "Ops.CONST 2\n",
      "Ops.ADD None\n"
     ]
    }
   ],
   "source": [
    "print(\"===== 3 * 5 + 2 =====\")\n",
    "for o in add1.toposort.keys():\n",
    "    print(o.op, o.arg)"
   ]
  },
  {
   "cell_type": "markdown",
   "metadata": {},
   "source": [
    "You get the idea - the children always come before the parents"
   ]
  },
  {
   "cell_type": "markdown",
   "metadata": {},
   "source": [
    "### Other UOp methods\n",
    "\n",
    "When reading the Tiny Grad code, you will often see other UOp methods called. To make this task easier, let's go over some popular ones."
   ]
  },
  {
   "cell_type": "markdown",
   "metadata": {},
   "source": [
    "##### `.replace()`\n",
    "\n",
    "Despite its name, this does not replace, but rather creates a new UOp that is a copy of the original UOp, except for the args (op, dtype, arg, src) you want to change:"
   ]
  },
  {
   "cell_type": "code",
   "execution_count": null,
   "metadata": {},
   "outputs": [
    {
     "data": {
      "text/plain": [
       "UOp(Ops.SUB, dtypes.int, arg=None, src=(\n",
       "  UOp(Ops.MUL, dtypes.int, arg=None, src=(\n",
       "    UOp(Ops.CONST, dtypes.int, arg=3, src=()),\n",
       "    UOp(Ops.CONST, dtypes.int, arg=5, src=()),)),\n",
       "  UOp(Ops.CONST, dtypes.int, arg=2, src=()),))"
      ]
     },
     "execution_count": null,
     "metadata": {},
     "output_type": "execute_result"
    }
   ],
   "source": [
    "add1.replace(op=Ops.SUB)"
   ]
  },
  {
   "cell_type": "markdown",
   "metadata": {},
   "source": [
    "`add1` did not change:"
   ]
  },
  {
   "cell_type": "code",
   "execution_count": null,
   "metadata": {},
   "outputs": [
    {
     "data": {
      "text/plain": [
       "UOp(Ops.ADD, dtypes.int, arg=None, src=(\n",
       "  UOp(Ops.MUL, dtypes.int, arg=None, src=(\n",
       "    UOp(Ops.CONST, dtypes.int, arg=3, src=()),\n",
       "    UOp(Ops.CONST, dtypes.int, arg=5, src=()),)),\n",
       "  UOp(Ops.CONST, dtypes.int, arg=2, src=()),))"
      ]
     },
     "execution_count": null,
     "metadata": {},
     "output_type": "execute_result"
    }
   ],
   "source": [
    "add1"
   ]
  },
  {
   "cell_type": "markdown",
   "metadata": {},
   "source": [
    "UOps are actually supposed to be immutable, but this is not enforced for performance reasons:\n",
    "```python\n",
    "# NOTE: this should be frozen, but frozen is slower\n",
    "@dataclass(eq=False, slots=True)\n",
    "class UOp(MathTrait, metaclass=UOpMetaClass):\n",
    "    ...\n",
    "```"
   ]
  },
  {
   "cell_type": "markdown",
   "metadata": {},
   "source": [
    "### UOp to code"
   ]
  },
  {
   "cell_type": "code",
   "execution_count": null,
   "metadata": {},
   "outputs": [],
   "source": [
    "from tinygrad.engine.schedule import create_schedule_with_vars\n",
    "from tinygrad.engine.realize import lower_schedule_item"
   ]
  },
  {
   "cell_type": "markdown",
   "metadata": {},
   "source": [
    "You did a bunch of Tensor operations, constructed a chonky UOp tree, and now you want to actually compute it."
   ]
  },
  {
   "cell_type": "code",
   "execution_count": null,
   "metadata": {},
   "outputs": [
    {
     "data": {
      "text/plain": [
       "UOp(Ops.CONTIGUOUS, dtypes.int, arg=None, src=(\n",
       "  UOp(Ops.ADD, dtypes.int, arg=None, src=(\n",
       "    UOp(Ops.EXPAND, dtypes.int, arg=(10, 10), src=(\n",
       "      UOp(Ops.RESHAPE, dtypes.int, arg=(1, 1), src=(\n",
       "        UOp(Ops.CONST, dtypes.int, arg=1, src=(\n",
       "          x4:=UOp(Ops.VIEW, dtypes.void, arg=ShapeTracker(views=(View(shape=(), strides=(), offset=0, mask=None, contiguous=True),)), src=(\n",
       "            UOp(Ops.DEVICE, dtypes.void, arg='CPU', src=()),)),)),)),)),\n",
       "    UOp(Ops.EXPAND, dtypes.int, arg=(10, 10), src=(\n",
       "      UOp(Ops.RESHAPE, dtypes.int, arg=(1, 1), src=(\n",
       "        UOp(Ops.CONST, dtypes.int, arg=2, src=(\n",
       "           x4,)),)),)),)),))"
      ]
     },
     "execution_count": null,
     "metadata": {},
     "output_type": "execute_result"
    }
   ],
   "source": [
    "a = (Tensor.full((10, 10), 1) + Tensor.full((10, 10), 2)).contiguous()\n",
    "a.lazydata"
   ]
  },
  {
   "cell_type": "markdown",
   "metadata": {},
   "source": [
    "The first step is to \"schedule\" the computation. This converts the UOp tree to a lover level one. You might also notice that it computed the `1+2=3`.\n",
    "> Note: We will cover the `ShapeTracker` in a separate chapter soon"
   ]
  },
  {
   "cell_type": "code",
   "execution_count": null,
   "metadata": {},
   "outputs": [
    {
     "data": {
      "text/plain": [
       "([ScheduleItem(ast=UOp(Ops.SINK, dtypes.void, arg=None, src=(\n",
       "    UOp(Ops.STORE, dtypes.void, arg=None, src=(\n",
       "      UOp(Ops.DEFINE_GLOBAL, dtypes.int.ptr(100), arg=0, src=()),\n",
       "      UOp(Ops.VIEW, dtypes.void, arg=ShapeTracker(views=(View(shape=(10, 10), strides=(10, 1), offset=0, mask=None, contiguous=True),)), src=()),\n",
       "      UOp(Ops.CONST, dtypes.int, arg=3, src=(\n",
       "        UOp(Ops.VIEW, dtypes.void, arg=ShapeTracker(views=(View(shape=(10, 10), strides=(0, 0), offset=0, mask=None, contiguous=False),)), src=()),)),)),)), bufs=(<buf real:False device:CPU size:100 dtype:dtypes.int offset:0>,), metadata=(contiguous, __add__))],\n",
       " {})"
      ]
     },
     "execution_count": null,
     "metadata": {},
     "output_type": "execute_result"
    }
   ],
   "source": [
    "schedule, vars = a.schedule_with_vars()\n",
    "schedule, vars"
   ]
  },
  {
   "cell_type": "markdown",
   "metadata": {},
   "source": [
    "The next step is to convert the `ScheduleItem` into executable code."
   ]
  },
  {
   "cell_type": "code",
   "execution_count": null,
   "metadata": {},
   "outputs": [
    {
     "name": "stdout",
     "output_type": "stream",
     "text": [
      "opened device CPU from pid:549064\n",
      "E_\u001b[34m25\u001b[0m\u001b[90m_\u001b[0m\u001b[33m4\u001b[0m\u001b[90m\u001b[0m\n",
      " 0: (25, 4)                   int.ptr(100)         (4, 1)                         ShapeTracker(views=(View(shape=(25, 4), strides=(4, 1), offset=0, mask=None, contiguous=True),))\n",
      "[Opt(op=OptOps.UPCAST, axis=0, arg=4)]\n",
      "\n",
      "void E_25_4(int* restrict data0) {\n",
      "  for (int ridx0 = 0; ridx0 < 25; ridx0++) {\n",
      "    int alu0 = (ridx0<<2);\n",
      "    *(data0+alu0) = 3;\n",
      "    *(data0+(alu0+1)) = 3;\n",
      "    *(data0+(alu0+2)) = 3;\n",
      "    *(data0+(alu0+3)) = 3;\n",
      "  }\n",
      "}\n",
      "\n"
     ]
    },
    {
     "data": {
      "text/plain": [
       "ExecItem(prg=<tinygrad.engine.realize.CompiledRunner object>, bufs=[<buf real:False device:CPU size:100 dtype:dtypes.int offset:0>], metadata=(contiguous, __add__))"
      ]
     },
     "execution_count": null,
     "metadata": {},
     "output_type": "execute_result"
    }
   ],
   "source": [
    "ei = lower_schedule_item(schedule[0])\n",
    "ei"
   ]
  },
  {
   "cell_type": "markdown",
   "metadata": {},
   "source": [
    "This brings the UOp tree to the lowest level, that maps ~1:1 to the generated code:"
   ]
  },
  {
   "cell_type": "code",
   "execution_count": null,
   "metadata": {},
   "outputs": [
    {
     "name": "stdout",
     "output_type": "stream",
     "text": [
      "Ops.NAME E_25_4 \n",
      "Ops.DEFINE_GLOBAL 0 \n",
      "Ops.CONST 0 \n",
      "Ops.CONST 1 \n",
      "Ops.CONST 2 \n",
      "Ops.CONST 3 \n",
      "Ops.CONST 25 \n",
      "Ops.RANGE 0 [0, 25]\n",
      "Ops.SHL None [2]\n",
      "Ops.INDEX None []\n",
      "Ops.STORE None [3]\n",
      "Ops.ADD None [1]\n",
      "Ops.INDEX None []\n",
      "Ops.STORE None [3]\n",
      "Ops.ADD None [2]\n",
      "Ops.INDEX None []\n",
      "Ops.STORE None [3]\n",
      "Ops.ADD None [3]\n",
      "Ops.INDEX None []\n",
      "Ops.STORE None [3]\n",
      "Ops.ENDRANGE None []\n"
     ]
    }
   ],
   "source": [
    "for o in ei.prg.p.uops:\n",
    "    print(o.op, o.arg, [s.arg for s in o.src if s.op == Ops.CONST] if o.src else \"\")"
   ]
  },
  {
   "cell_type": "code",
   "execution_count": null,
   "metadata": {},
   "outputs": [
    {
     "name": "stdout",
     "output_type": "stream",
     "text": [
      "\n",
      "void E_25_4(int* restrict data0) {\n",
      "  for (int ridx0 = 0; ridx0 < 25; ridx0++) {\n",
      "    int alu0 = (ridx0<<2);\n",
      "    *(data0+alu0) = 3;\n",
      "    *(data0+(alu0+1)) = 3;\n",
      "    *(data0+(alu0+2)) = 3;\n",
      "    *(data0+(alu0+3)) = 3;\n",
      "  }\n",
      "}\n",
      "\n"
     ]
    }
   ],
   "source": [
    "print(ei.prg.p.src)"
   ]
  },
  {
   "cell_type": "markdown",
   "metadata": {},
   "source": [
    "Let's compile and run the code. We will go into much more details on individual steps later."
   ]
  },
  {
   "cell_type": "code",
   "execution_count": null,
   "metadata": {},
   "outputs": [
    {
     "name": "stdout",
     "output_type": "stream",
     "text": [
      "\u001b[32m*** CPU        1\u001b[0m E_\u001b[34m25\u001b[0m\u001b[90m_\u001b[0m\u001b[33m4\u001b[0m\u001b[90m\u001b[0m                                    arg  1 mem  0.00 GB tm      7.96us/     0.01ms (     0.00 GFLOPS    0.1|0.1     GB/s) ['contiguous', '__add__']\n"
     ]
    },
    {
     "data": {
      "text/plain": [
       "7.961993105709553e-06"
      ]
     },
     "execution_count": null,
     "metadata": {},
     "output_type": "execute_result"
    }
   ],
   "source": [
    "ei.run()"
   ]
  },
  {
   "cell_type": "markdown",
   "metadata": {},
   "source": [
    "The result has been stored to the buffer:"
   ]
  },
  {
   "cell_type": "code",
   "execution_count": null,
   "metadata": {},
   "outputs": [
    {
     "data": {
      "text/plain": [
       "array([[3, 3, 3, 3, 3, 3, 3, 3, 3, 3],\n",
       "       [3, 3, 3, 3, 3, 3, 3, 3, 3, 3],\n",
       "       [3, 3, 3, 3, 3, 3, 3, 3, 3, 3],\n",
       "       [3, 3, 3, 3, 3, 3, 3, 3, 3, 3],\n",
       "       [3, 3, 3, 3, 3, 3, 3, 3, 3, 3],\n",
       "       [3, 3, 3, 3, 3, 3, 3, 3, 3, 3],\n",
       "       [3, 3, 3, 3, 3, 3, 3, 3, 3, 3],\n",
       "       [3, 3, 3, 3, 3, 3, 3, 3, 3, 3],\n",
       "       [3, 3, 3, 3, 3, 3, 3, 3, 3, 3],\n",
       "       [3, 3, 3, 3, 3, 3, 3, 3, 3, 3]], dtype=int32)"
      ]
     },
     "execution_count": null,
     "metadata": {},
     "output_type": "execute_result"
    }
   ],
   "source": [
    "import numpy as np\n",
    "\n",
    "view = memoryview(a.lazydata.base.realized._buf)\n",
    "np.frombuffer(view, dtype=np.int32).reshape(a.shape)\n"
   ]
  }
 ],
 "metadata": {
  "kernelspec": {
   "display_name": "python3",
   "language": "python",
   "name": "python3"
  }
 },
 "nbformat": 4,
 "nbformat_minor": 2
}
