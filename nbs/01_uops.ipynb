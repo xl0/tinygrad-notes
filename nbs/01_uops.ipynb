{
 "cells": [
  {
   "cell_type": "markdown",
   "metadata": {},
   "source": [
    "# 1 - UOps"
   ]
  },
  {
   "cell_type": "code",
   "execution_count": null,
   "metadata": {},
   "outputs": [],
   "source": [
    "#| default_exp uops"
   ]
  },
  {
   "cell_type": "markdown",
   "metadata": {},
   "source": []
  },
  {
   "cell_type": "markdown",
   "metadata": {},
   "source": [
    "As we saw in the previous chapter, UOps are the intermediate device-independent representation on the computation tree that sits between the user-facing `Tensor` and device-specific code that is generated to perform the computations."
   ]
  },
  {
   "cell_type": "code",
   "execution_count": null,
   "metadata": {},
   "outputs": [],
   "source": [
    "#| hide\n",
    "from nbdev.showdoc import *\n",
    "import nbdev; nbdev.nbdev_export()"
   ]
  },
  {
   "cell_type": "code",
   "execution_count": null,
   "metadata": {},
   "outputs": [],
   "source": [
    "import os\n",
    "\n",
    "os.environ[\"CPU\"] = \"1\"\n",
    "# os.environ[\"TRACEMETA\"] = \"0\"\n",
    "os.environ[\"DEBUG\"]=\"4\"\n",
    "# os.environ[\"NOOPT\"]=\"1\"\n"
   ]
  },
  {
   "cell_type": "code",
   "execution_count": null,
   "metadata": {},
   "outputs": [],
   "source": [
    "import tinygrad as tg\n",
    "from tinygrad import Tensor, dtypes"
   ]
  },
  {
   "cell_type": "markdown",
   "metadata": {},
   "source": [
    "### UOp is a singleton\n",
    "As noted by  [mesozoic-egg@github][https://mesozoic-egg.github.io/tinygrad-notes/20250119_uop_singleton.html], UOp is a singleton.\n",
    "\n",
    "It's implemented using a MetaClass:\n",
    "[tinygrad/ops.py](https://github.com/tinygrad/tinygrad/blob/7b865ed03d314dc73debd6ffc2975218fbe6c4a4/tinygrad/ops.py#L226)\n",
    "\n",
    "```python\n",
    "class UOpMetaClass(type):\n",
    "  ucache:dict[tuple, weakref.ReferenceType[UOp]] = {}\n",
    "  def __call__(cls, op:Ops, dtype:DType=dtypes.void, src:tuple[UOp,...]=tuple(), arg:Any=None, _buffer:Buffer|None=None):\n",
    "    if (wret:=UOpMetaClass.ucache.get(key:=(op, dtype, src, arg), None)) is not None and (ret:=wret()) is not None: return ret\n",
    "    UOpMetaClass.ucache[key] = ref = weakref.ref(created:=super().__call__(*key))\n",
    "    ...\n",
    "    return created\n",
    "\n",
    "@dataclass(eq=False, slots=True)\n",
    "class UOp(MathTrait, metaclass=UOpMetaClass):\n",
    "    def __del__(self):\n",
    "        if (ref:=UOpMetaClass.ucache.get(k:=(self.op, self.dtype, self.src, self.arg))) is not None:\n",
    "            ...\n",
    "            del UOpMetaClass.ucache[k]\n",
    "```\n",
    "\n",
    "(TinyGrad really loves its `:=` operators)\n",
    "\n",
    "The main idea is, if you have 2 UOp (sub-)trees, it's very easy to compare them, because the roots of both trees will be the same object if they are identical.\n"
   ]
  },
  {
   "cell_type": "code",
   "execution_count": null,
   "metadata": {},
   "outputs": [],
   "source": [
    "from tinygrad.ops import UOp, Ops"
   ]
  },
  {
   "cell_type": "code",
   "execution_count": null,
   "metadata": {},
   "outputs": [
    {
     "data": {
      "text/plain": [
       "True"
      ]
     },
     "execution_count": null,
     "metadata": {},
     "output_type": "execute_result"
    }
   ],
   "source": [
    "# Create two identical UOp trees (3 * 5 + 2)\n",
    "x1 = UOp(Ops.CONST, dtype=dtypes.int, arg=5)\n",
    "mul1 = UOp(Ops.MUL, dtype=dtypes.int, src=(UOp(Ops.CONST, dtype=dtypes.int, arg=3), x1))\n",
    "add1 = UOp(Ops.ADD, dtype=dtypes.int, src=(mul1, UOp(Ops.CONST, dtype=dtypes.int, arg=2)))\n",
    "\n",
    "# Second tree\n",
    "x2 = UOp(Ops.CONST, dtype=dtypes.int, arg=5)\n",
    "mul2 = UOp(Ops.MUL, dtype=dtypes.int, src=(UOp(Ops.CONST, dtype=dtypes.int, arg=3), x2))\n",
    "add2 = UOp(Ops.ADD, dtype=dtypes.int, src=(mul2, UOp(Ops.CONST, dtype=dtypes.int, arg=2)))\n",
    "\n",
    "id(add1) == id(add2)"
   ]
  },
  {
   "cell_type": "code",
   "execution_count": null,
   "metadata": {},
   "outputs": [
    {
     "data": {
      "text/plain": [
       "False"
      ]
     },
     "execution_count": null,
     "metadata": {},
     "output_type": "execute_result"
    }
   ],
   "source": [
    "# Third tree is different (3 * 5 + 1)\n",
    "x3 = UOp(Ops.CONST, dtype=dtypes.int, arg=5)\n",
    "mul3 = UOp(Ops.MUL, dtype=dtypes.int, src=(UOp(Ops.CONST, dtype=dtypes.int, arg=3), x3))\n",
    "add3 = UOp(Ops.ADD, dtype=dtypes.int, src=(mul3, UOp(Ops.CONST, dtype=dtypes.int, arg=1)))\n",
    "\n",
    "id(add1) == id(add3)"
   ]
  },
  {
   "cell_type": "markdown",
   "metadata": {},
   "source": [
    "### Symbolic evaluation\n",
    "\n",
    "Another cool feature of UOps - if all inputs are constants and the result is a scalar, it can be evaluated without generating any device code at all:"
   ]
  },
  {
   "cell_type": "code",
   "execution_count": null,
   "metadata": {},
   "outputs": [
    {
     "data": {
      "text/plain": [
       "UOp(Ops.ADD, dtypes.int, arg=None, src=(\n",
       "  UOp(Ops.MUL, dtypes.int, arg=None, src=(\n",
       "    UOp(Ops.CONST, dtypes.int, arg=3, src=()),\n",
       "    UOp(Ops.CONST, dtypes.int, arg=5, src=()),)),\n",
       "  UOp(Ops.CONST, dtypes.int, arg=2, src=()),))"
      ]
     },
     "execution_count": null,
     "metadata": {},
     "output_type": "execute_result"
    }
   ],
   "source": [
    "add1"
   ]
  },
  {
   "cell_type": "code",
   "execution_count": null,
   "metadata": {},
   "outputs": [
    {
     "data": {
      "text/plain": [
       "UOp(Ops.CONST, dtypes.int, arg=17, src=())"
      ]
     },
     "execution_count": null,
     "metadata": {},
     "output_type": "execute_result"
    }
   ],
   "source": [
    "add1.simplify()"
   ]
  },
  {
   "cell_type": "markdown",
   "metadata": {},
   "source": [
    "Another way to do the same - cast the UOp to float or an int depending on dtype."
   ]
  },
  {
   "cell_type": "code",
   "execution_count": null,
   "metadata": {},
   "outputs": [
    {
     "data": {
      "text/plain": [
       "17"
      ]
     },
     "execution_count": null,
     "metadata": {},
     "output_type": "execute_result"
    }
   ],
   "source": [
    "int(add1)"
   ]
  },
  {
   "cell_type": "markdown",
   "metadata": {},
   "source": [
    "This does not seem to work on non-scalars though"
   ]
  },
  {
   "cell_type": "markdown",
   "metadata": {},
   "source": [
    "### UOp reference\n",
    "\n",
    "UOps are used throughout TinyGrad, some are specific to certain stages of processing (from Tensors to code), some are valid at any stage.\n",
    "\n",
    "Here is the full list of all UOps, with (AI-generated) annotations and notes:\n",
    "\n",
    "[UOp Reference](uops_annotates.html)\n"
   ]
  },
  {
   "cell_type": "markdown",
   "metadata": {},
   "source": [
    "### UOp creation helpers\n",
    "\n",
    "In many cases, the UOp class has methods for creating specific UOps. It's often more convenient and concise to use them\n",
    "\n",
    "For example `UOp.const()` creates either a `CONST` or a `VCONST` (vector const, used internally for buffers), and also takes care of the arg type matching dtype:"
   ]
  },
  {
   "cell_type": "code",
   "execution_count": null,
   "metadata": {},
   "outputs": [
    {
     "data": {
      "text/plain": [
       "UOp(Ops.CONST, dtypes.half, arg=2.0, src=())"
      ]
     },
     "execution_count": null,
     "metadata": {},
     "output_type": "execute_result"
    }
   ],
   "source": [
    "UOp.const(dtypes.float16, 2)"
   ]
  },
  {
   "cell_type": "markdown",
   "metadata": {},
   "source": [
    "Note the arg has been converted to a `float`, even though we gave it an `int`\n",
    "\n",
    "There are a few that are very straight-forward:\n",
    "```python\n",
    "\n",
    "# The SINK is the end of a computation graph\n",
    "def sink(self, *srcs:UOp): return UOp(Ops.SINK, dtypes.void, (self,)+srcs)\n",
    "\n",
    "# Detach from the backprop\n",
    "def detach(self): return UOp(Ops.DETACH, self.dtype, (self,))\n",
    "\n",
    "def cast(self, dtype:DType): return UOp(Ops.CAST, dtype, (self,))\n",
    "def bitcast(self, dtype:DType): return UOp(Ops.BITCAST, dtype, (self,))\n",
    "def load(self, *src:UOp, **kwargs): return UOp(Ops.LOAD, src=(self,)+src, **kwargs)\n",
    "def store(self, *src:UOp, **kwargs): return UOp(Ops.STORE, dtypes.void, (self,)+src, **kwargs)\n",
    "\n",
    "# The RANGE UOp takes 2 UOps as start/end of the range.\n",
    "def range(dtype:DType, start:sint, end:sint, idx:int): return UOp(Ops.RANGE, dtype=dtype, src=(sint_to_uop(start), sint_to_uop(end)), arg=idx)\n",
    "\n",
    "def assign(self, x:UOp): return UOp(Ops.ASSIGN, self.dtype, (self,x))\n",
    "def contiguous(self): return self.alu(Ops.CONTIGUOUS)\n",
    "def contiguous_backward(self): return self.alu(Ops.CONTIGUOUS_BACKWARD)\n",
    "\n",
    "```\n",
    "\n",
    "\n"
   ]
  },
  {
   "cell_type": "markdown",
   "metadata": {},
   "source": [
    "### Toposort\n",
    "\n",
    "Quite often we need to access a UOp tree in \"topological order\".\n",
    "\n",
    "`UOp.toposort` is a property (a class method that looks like a class attribute) that returns a dictionary with UOps being the keys, and the values being None.\n",
    "\n",
    "This emulates a sorted Set, which Python lacks:"
   ]
  },
  {
   "cell_type": "code",
   "execution_count": null,
   "metadata": {},
   "outputs": [
    {
     "name": "stdout",
     "output_type": "stream",
     "text": [
      "===== 3 * 5 + 2 =====\n",
      "Ops.CONST 3\n",
      "Ops.CONST 5\n",
      "Ops.MUL None\n",
      "Ops.CONST 2\n",
      "Ops.ADD None\n"
     ]
    }
   ],
   "source": [
    "print(\"===== 3 * 5 + 2 =====\")\n",
    "for o in add1.toposort.keys():\n",
    "    print(o.op, o.arg)"
   ]
  },
  {
   "cell_type": "markdown",
   "metadata": {},
   "source": [
    "You get the idea - the children always come before the parents"
   ]
  },
  {
   "cell_type": "markdown",
   "metadata": {},
   "source": [
    "### Other UOp methods\n",
    "\n",
    "When reading the Tiny Grad code, you will often see other UOp methods called. To make this task easier, let's go over some popular ones."
   ]
  },
  {
   "cell_type": "markdown",
   "metadata": {},
   "source": [
    "##### `.replace()`\n",
    "\n",
    "Despite its name, this does not replace, but rather creates a new UOp that is a copy of the original UOp, except for the args (op, dtype, arg, src) you want to change:"
   ]
  },
  {
   "cell_type": "code",
   "execution_count": null,
   "metadata": {},
   "outputs": [
    {
     "data": {
      "text/plain": [
       "UOp(Ops.SUB, dtypes.int, arg=None, src=(\n",
       "  UOp(Ops.MUL, dtypes.int, arg=None, src=(\n",
       "    UOp(Ops.CONST, dtypes.int, arg=3, src=()),\n",
       "    UOp(Ops.CONST, dtypes.int, arg=5, src=()),)),\n",
       "  UOp(Ops.CONST, dtypes.int, arg=2, src=()),))"
      ]
     },
     "execution_count": null,
     "metadata": {},
     "output_type": "execute_result"
    }
   ],
   "source": [
    "add1.replace(op=Ops.SUB)"
   ]
  },
  {
   "cell_type": "markdown",
   "metadata": {},
   "source": [
    "`add1` did not change:"
   ]
  },
  {
   "cell_type": "code",
   "execution_count": null,
   "metadata": {},
   "outputs": [
    {
     "data": {
      "text/plain": [
       "UOp(Ops.ADD, dtypes.int, arg=None, src=(\n",
       "  UOp(Ops.MUL, dtypes.int, arg=None, src=(\n",
       "    UOp(Ops.CONST, dtypes.int, arg=3, src=()),\n",
       "    UOp(Ops.CONST, dtypes.int, arg=5, src=()),)),\n",
       "  UOp(Ops.CONST, dtypes.int, arg=2, src=()),))"
      ]
     },
     "execution_count": null,
     "metadata": {},
     "output_type": "execute_result"
    }
   ],
   "source": [
    "add1"
   ]
  },
  {
   "cell_type": "markdown",
   "metadata": {},
   "source": [
    "UOps are actually supposed to be immutable, but this is not enforced for performance reasons:\n",
    "```python\n",
    "# NOTE: this should be frozen, but frozen is slower\n",
    "@dataclass(eq=False, slots=True)\n",
    "class UOp(MathTrait, metaclass=UOpMetaClass):\n",
    "    ...\n",
    "```"
   ]
  },
  {
   "cell_type": "markdown",
   "metadata": {},
   "source": [
    "### UOp to code"
   ]
  },
  {
   "cell_type": "code",
   "execution_count": null,
   "metadata": {},
   "outputs": [],
   "source": [
    "from tinygrad.engine.schedule import create_schedule_with_vars\n",
    "from tinygrad.engine.realize import lower_schedule_item"
   ]
  },
  {
   "cell_type": "markdown",
   "metadata": {},
   "source": [
    "You did a bunch of Tensor operations, constructed a chonky UOp tree, and now you want to actually compute it."
   ]
  },
  {
   "cell_type": "code",
   "execution_count": null,
   "metadata": {},
   "outputs": [
    {
     "data": {
      "text/plain": [
       "UOp(Ops.CONTIGUOUS, dtypes.int, arg=None, src=(\n",
       "  UOp(Ops.ADD, dtypes.int, arg=None, src=(\n",
       "    UOp(Ops.EXPAND, dtypes.int, arg=(10, 10), src=(\n",
       "      UOp(Ops.RESHAPE, dtypes.int, arg=(1, 1), src=(\n",
       "        UOp(Ops.CONST, dtypes.int, arg=1, src=(\n",
       "          x4:=UOp(Ops.VIEW, dtypes.void, arg=ShapeTracker(views=(View(shape=(), strides=(), offset=0, mask=None, contiguous=True),)), src=(\n",
       "            UOp(Ops.DEVICE, dtypes.void, arg='CPU', src=()),)),)),)),)),\n",
       "    UOp(Ops.EXPAND, dtypes.int, arg=(10, 10), src=(\n",
       "      UOp(Ops.RESHAPE, dtypes.int, arg=(1, 1), src=(\n",
       "        UOp(Ops.CONST, dtypes.int, arg=2, src=(\n",
       "           x4,)),)),)),)),))"
      ]
     },
     "execution_count": null,
     "metadata": {},
     "output_type": "execute_result"
    }
   ],
   "source": [
    "a = (Tensor.full((10, 10), 1) + Tensor.full((10, 10), 2)).contiguous()\n",
    "a.lazydata"
   ]
  },
  {
   "cell_type": "markdown",
   "metadata": {},
   "source": [
    "The first step is to \"schedule\" the computation. This converts the UOp tree to a lover level one. You might also notice that it computed the `1+2=3`.\n",
    "> Note: We will cover the `ShapeTracker` in a separate chapter soon"
   ]
  },
  {
   "cell_type": "code",
   "execution_count": null,
   "metadata": {},
   "outputs": [
    {
     "data": {
      "text/plain": [
       "([ScheduleItem(ast=UOp(Ops.SINK, dtypes.void, arg=None, src=(\n",
       "    UOp(Ops.STORE, dtypes.void, arg=None, src=(\n",
       "      UOp(Ops.DEFINE_GLOBAL, dtypes.int.ptr(100), arg=0, src=()),\n",
       "      UOp(Ops.VIEW, dtypes.void, arg=ShapeTracker(views=(View(shape=(10, 10), strides=(10, 1), offset=0, mask=None, contiguous=True),)), src=()),\n",
       "      UOp(Ops.CONST, dtypes.int, arg=3, src=(\n",
       "        UOp(Ops.VIEW, dtypes.void, arg=ShapeTracker(views=(View(shape=(10, 10), strides=(0, 0), offset=0, mask=None, contiguous=False),)), src=()),)),)),)), bufs=(<buf real:False device:CPU size:100 dtype:dtypes.int offset:0>,), metadata=(contiguous, __add__))],\n",
       " {})"
      ]
     },
     "execution_count": null,
     "metadata": {},
     "output_type": "execute_result"
    }
   ],
   "source": [
    "schedule, vars = a.schedule_with_vars()\n",
    "schedule, vars"
   ]
  },
  {
   "cell_type": "markdown",
   "metadata": {},
   "source": [
    "The next step is to convert the `ScheduleItem` into executable code."
   ]
  },
  {
   "cell_type": "code",
   "execution_count": null,
   "metadata": {},
   "outputs": [
    {
     "name": "stdout",
     "output_type": "stream",
     "text": [
      "opened device CPU from pid:549064\n",
      "E_\u001b[34m25\u001b[0m\u001b[90m_\u001b[0m\u001b[33m4\u001b[0m\u001b[90m\u001b[0m\n",
      " 0: (25, 4)                   int.ptr(100)         (4, 1)                         ShapeTracker(views=(View(shape=(25, 4), strides=(4, 1), offset=0, mask=None, contiguous=True),))\n",
      "[Opt(op=OptOps.UPCAST, axis=0, arg=4)]\n",
      "\n",
      "void E_25_4(int* restrict data0) {\n",
      "  for (int ridx0 = 0; ridx0 < 25; ridx0++) {\n",
      "    int alu0 = (ridx0<<2);\n",
      "    *(data0+alu0) = 3;\n",
      "    *(data0+(alu0+1)) = 3;\n",
      "    *(data0+(alu0+2)) = 3;\n",
      "    *(data0+(alu0+3)) = 3;\n",
      "  }\n",
      "}\n",
      "\n"
     ]
    },
    {
     "data": {
      "text/plain": [
       "ExecItem(prg=<tinygrad.engine.realize.CompiledRunner object>, bufs=[<buf real:False device:CPU size:100 dtype:dtypes.int offset:0>], metadata=(contiguous, __add__))"
      ]
     },
     "execution_count": null,
     "metadata": {},
     "output_type": "execute_result"
    }
   ],
   "source": [
    "ei = lower_schedule_item(schedule[0])\n",
    "ei"
   ]
  },
  {
   "cell_type": "markdown",
   "metadata": {},
   "source": [
    "This brings the UOp tree to the lowest level, that maps ~1:1 to the generated code:"
   ]
  },
  {
   "cell_type": "code",
   "execution_count": null,
   "metadata": {},
   "outputs": [
    {
     "name": "stdout",
     "output_type": "stream",
     "text": [
      "Ops.NAME E_25_4 \n",
      "Ops.DEFINE_GLOBAL 0 \n",
      "Ops.CONST 0 \n",
      "Ops.CONST 1 \n",
      "Ops.CONST 2 \n",
      "Ops.CONST 3 \n",
      "Ops.CONST 25 \n",
      "Ops.RANGE 0 [0, 25]\n",
      "Ops.SHL None [2]\n",
      "Ops.INDEX None []\n",
      "Ops.STORE None [3]\n",
      "Ops.ADD None [1]\n",
      "Ops.INDEX None []\n",
      "Ops.STORE None [3]\n",
      "Ops.ADD None [2]\n",
      "Ops.INDEX None []\n",
      "Ops.STORE None [3]\n",
      "Ops.ADD None [3]\n",
      "Ops.INDEX None []\n",
      "Ops.STORE None [3]\n",
      "Ops.ENDRANGE None []\n"
     ]
    }
   ],
   "source": [
    "for o in ei.prg.p.uops:\n",
    "    print(o.op, o.arg, [s.arg for s in o.src if s.op == Ops.CONST] if o.src else \"\")"
   ]
  },
  {
   "cell_type": "code",
   "execution_count": null,
   "metadata": {},
   "outputs": [
    {
     "name": "stdout",
     "output_type": "stream",
     "text": [
      "\n",
      "void E_25_4(int* restrict data0) {\n",
      "  for (int ridx0 = 0; ridx0 < 25; ridx0++) {\n",
      "    int alu0 = (ridx0<<2);\n",
      "    *(data0+alu0) = 3;\n",
      "    *(data0+(alu0+1)) = 3;\n",
      "    *(data0+(alu0+2)) = 3;\n",
      "    *(data0+(alu0+3)) = 3;\n",
      "  }\n",
      "}\n",
      "\n"
     ]
    }
   ],
   "source": [
    "print(ei.prg.p.src)"
   ]
  },
  {
   "cell_type": "markdown",
   "metadata": {},
   "source": [
    "This compiles and runs the code. We will go into much more details on individual steps later."
   ]
  },
  {
   "cell_type": "code",
   "execution_count": null,
   "metadata": {},
   "outputs": [
    {
     "name": "stdout",
     "output_type": "stream",
     "text": [
      "\u001b[32m*** CPU        1\u001b[0m E_\u001b[34m25\u001b[0m\u001b[90m_\u001b[0m\u001b[33m4\u001b[0m\u001b[90m\u001b[0m                                    arg  1 mem  0.00 GB tm      7.96us/     0.01ms (     0.00 GFLOPS    0.1|0.1     GB/s) ['contiguous', '__add__']\n"
     ]
    },
    {
     "data": {
      "text/plain": [
       "7.961993105709553e-06"
      ]
     },
     "execution_count": null,
     "metadata": {},
     "output_type": "execute_result"
    }
   ],
   "source": [
    "ei.run()"
   ]
  },
  {
   "cell_type": "markdown",
   "metadata": {},
   "source": [
    "The result has been saves to the buffer:"
   ]
  },
  {
   "cell_type": "code",
   "execution_count": null,
   "metadata": {},
   "outputs": [
    {
     "data": {
      "text/plain": [
       "array([[3, 3, 3, 3, 3, 3, 3, 3, 3, 3],\n",
       "       [3, 3, 3, 3, 3, 3, 3, 3, 3, 3],\n",
       "       [3, 3, 3, 3, 3, 3, 3, 3, 3, 3],\n",
       "       [3, 3, 3, 3, 3, 3, 3, 3, 3, 3],\n",
       "       [3, 3, 3, 3, 3, 3, 3, 3, 3, 3],\n",
       "       [3, 3, 3, 3, 3, 3, 3, 3, 3, 3],\n",
       "       [3, 3, 3, 3, 3, 3, 3, 3, 3, 3],\n",
       "       [3, 3, 3, 3, 3, 3, 3, 3, 3, 3],\n",
       "       [3, 3, 3, 3, 3, 3, 3, 3, 3, 3],\n",
       "       [3, 3, 3, 3, 3, 3, 3, 3, 3, 3]], dtype=int32)"
      ]
     },
     "execution_count": null,
     "metadata": {},
     "output_type": "execute_result"
    }
   ],
   "source": [
    "import numpy as np\n",
    "\n",
    "view = memoryview(a.lazydata.base.realized._buf)\n",
    "np.frombuffer(view, dtype=np.int32).reshape(a.shape)\n"
   ]
  },
  {
   "cell_type": "markdown",
   "metadata": {},
   "source": [
    "#### The Pattern Matcher\n",
    "\n",
    "The next step is to progressively rewrite the UOp tree using the Pattern Matcher (PM).\n",
    "\n",
    "The PM is used all over TinyGrad for different purposes, and I will cover it in greater detail later, but let's take a quick peek."
   ]
  },
  {
   "cell_type": "code",
   "execution_count": null,
   "metadata": {},
   "outputs": [],
   "source": [
    "from tinygrad.ops import PatternMatcher, UPat, graph_rewrite"
   ]
  },
  {
   "cell_type": "markdown",
   "metadata": {},
   "source": [
    "The PM operates on a list of rules.\n",
    "\n",
    "Each rule consists of a `UPat`, and a function that is called when the pattern matches part of the tree.\n",
    "\n",
    "The return value of the function is the result of the \"match\"."
   ]
  },
  {
   "cell_type": "code",
   "execution_count": null,
   "metadata": {},
   "outputs": [
    {
     "ename": "NameError",
     "evalue": "name 'a_sink' is not defined",
     "output_type": "error",
     "traceback": [
      "\u001b[31m---------------------------------------------------------------------------\u001b[39m",
      "\u001b[31mNameError\u001b[39m                                 Traceback (most recent call last)",
      "\u001b[36mCell\u001b[39m\u001b[36m \u001b[39m\u001b[32mIn[24]\u001b[39m\u001b[32m, line 12\u001b[39m\n\u001b[32m      1\u001b[39m test_rules = PatternMatcher([\n\u001b[32m      2\u001b[39m     (UPat(Ops.SINK), \u001b[38;5;28;01mlambda\u001b[39;00m: \u001b[33m\"\u001b[39m\u001b[33mU stink\u001b[39m\u001b[33m\"\u001b[39m),                                                \u001b[38;5;66;03m# This rule matches any `SINK` UOp\u001b[39;00m\n\u001b[32m      3\u001b[39m     (UPat(Ops.CONST, name=\u001b[33m\"\u001b[39m\u001b[33mx\u001b[39m\u001b[33m\"\u001b[39m), \u001b[38;5;28;01mlambda\u001b[39;00m x: \u001b[33mf\u001b[39m\u001b[33m\"\u001b[39m\u001b[33mGot a CONST dtype \u001b[39m\u001b[38;5;132;01m{\u001b[39;00mx.dtype\u001b[38;5;132;01m}\u001b[39;00m\u001b[33m arg \u001b[39m\u001b[38;5;132;01m{\u001b[39;00mx.arg\u001b[38;5;132;01m}\u001b[39;00m\u001b[33m\"\u001b[39m),  \u001b[38;5;66;03m# Can pass the Op to the function\u001b[39;00m\n\u001b[32m   (...)\u001b[39m\u001b[32m      9\u001b[39m     \u001b[38;5;66;03m# No match - return Null\u001b[39;00m\n\u001b[32m     10\u001b[39m ])\n\u001b[32m---> \u001b[39m\u001b[32m12\u001b[39m [test_rules.rewrite(op) \u001b[38;5;28;01mfor\u001b[39;00m op \u001b[38;5;129;01min\u001b[39;00m \u001b[43ma_sink\u001b[49m.toposort]\n",
      "\u001b[31mNameError\u001b[39m: name 'a_sink' is not defined"
     ]
    }
   ],
   "source": [
    "test_rules = PatternMatcher([\n",
    "    (UPat(Ops.SINK), lambda: \"U stink\"),                                                # This rule matches any `SINK` UOp\n",
    "    (UPat(Ops.CONST, name=\"x\"), lambda x: f\"Got a CONST dtype {x.dtype} arg {x.arg}\"),  # Can pass the Op to the function\n",
    "    (UPat(Ops.CONST), lambda x: f\"Another rule for CONST\"),                             # Oops, only one rule can match!\n",
    "    (UPat((Ops.ADD, Ops.MUL)), lambda: \"ADD or MUL\"),                                   # Can match more than one UOp type\n",
    "    (UPat(Ops.EXPAND, src=(UPat(Ops.RESHAPE, src=UPat(Ops.CONST, arg=2)))),\n",
    "        lambda: \"Expand with reshape from a const with arg=2\")                          # Can match a specific sub-tree.\n",
    "                                                                                        # Note: This one only matches the EXPAND for 2, not 1\n",
    "    # No match - return Null\n",
    "])\n",
    "\n",
    "[test_rules.rewrite(op) for op in a_sink.toposort]"
   ]
  },
  {
   "cell_type": "markdown",
   "metadata": {},
   "source": [
    "A more interesting pattern is to replace the matched UOps with some other UOps. We can also use `graph_rewrite` to operate on a tree."
   ]
  },
  {
   "cell_type": "code",
   "execution_count": null,
   "metadata": {},
   "outputs": [
    {
     "data": {
      "text/plain": [
       "UOp(Ops.SUB, dtypes.int, arg=None, src=(\n",
       "  UOp(Ops.IDIV, dtypes.int, arg=None, src=(\n",
       "    UOp(Ops.CONST, dtypes.int, arg=3, src=()),\n",
       "    UOp(Ops.CONST, dtypes.int, arg=5, src=()),)),\n",
       "  UOp(Ops.CONST, dtypes.int, arg=2, src=()),))"
      ]
     },
     "execution_count": null,
     "metadata": {},
     "output_type": "execute_result"
    }
   ],
   "source": [
    "insanity = PatternMatcher([\n",
    "    (UPat(Ops.ADD, name=\"x\"), lambda x: UOp(Ops.SUB, dtype=x.dtype, arg=x.arg, src=x.src)),\n",
    "    (UPat(Ops.MUL, dtype=dtypes.ints, name=\"x\"), lambda x: UOp(Ops.IDIV, dtype=x.dtype, src=x.src))\n",
    "])\n",
    "\n",
    "rewritten = graph_rewrite(add1, insanity)\n",
    "rewritten"
   ]
  },
  {
   "cell_type": "code",
   "execution_count": null,
   "metadata": {},
   "outputs": [
    {
     "data": {
      "text/plain": [
       "-2"
      ]
     },
     "execution_count": null,
     "metadata": {},
     "output_type": "execute_result"
    }
   ],
   "source": [
    "int(rewritten)"
   ]
  },
  {
   "cell_type": "code",
   "execution_count": null,
   "metadata": {},
   "outputs": [
    {
     "data": {
      "text/plain": [
       "tinygrad.engine.schedule.ScheduleItem"
      ]
     },
     "execution_count": null,
     "metadata": {},
     "output_type": "execute_result"
    }
   ],
   "source": [
    "schedule, var_vals, becomes_map = create_schedule_with_vars(a_sink)\n",
    "assert len(schedule) == 1\n",
    "assert len(var_vals) == 0\n",
    "si = schedule[0]\n",
    "type(si)"
   ]
  },
  {
   "cell_type": "markdown",
   "metadata": {},
   "source": [
    "`ScheduleItem` is a `dataclass` with:\n",
    "- `ast` - the new UOp tree\n",
    "- `bufs` - the buffers used in the calculation\n",
    "- `metadata`"
   ]
  },
  {
   "cell_type": "code",
   "execution_count": null,
   "metadata": {},
   "outputs": [
    {
     "name": "stdout",
     "output_type": "stream",
     "text": [
      "AST: UOp(Ops.SINK, dtypes.void, arg=None, src=(\n",
      "  UOp(Ops.STORE, dtypes.void, arg=None, src=(\n",
      "    UOp(Ops.DEFINE_GLOBAL, dtypes.int.ptr(100), arg=0, src=()),\n",
      "    UOp(Ops.VIEW, dtypes.void, arg=ShapeTracker(views=(View(shape=(10, 10), strides=(10, 1), offset=0, mask=None, contiguous=True),)), src=()),\n",
      "    UOp(Ops.CONST, dtypes.int, arg=3, src=(\n",
      "      UOp(Ops.VIEW, dtypes.void, arg=ShapeTracker(views=(View(shape=(10, 10), strides=(0, 0), offset=0, mask=None, contiguous=False),)), src=()),)),)),))\n",
      "bufs: (<buf real:False device:CPU size:100 dtype:dtypes.int offset:0>,)\n",
      "Metadata (contiguous, __add__)\n"
     ]
    }
   ],
   "source": [
    "print(\"AST:\", si.ast)\n",
    "print(\"bufs:\", si.bufs)\n",
    "print(\"Metadata\", si.metadata)"
   ]
  },
  {
   "cell_type": "markdown",
   "metadata": {},
   "source": [
    "The next step is to \"lower\" the `ScheduleItem`, which generates the code."
   ]
  },
  {
   "cell_type": "code",
   "execution_count": null,
   "metadata": {},
   "outputs": [
    {
     "data": {
      "text/plain": [
       "(<tinygrad.engine.realize.CompiledRunner>,\n",
       " [<buf real:False device:CPU size:100 dtype:dtypes.int offset:0>])"
      ]
     },
     "execution_count": null,
     "metadata": {},
     "output_type": "execute_result"
    }
   ],
   "source": [
    "compiled_runner, bufs = tg.engine.realize.si_lowerer.rewrite(si.ast, si.bufs)\n",
    "compiled_runner, bufs"
   ]
  },
  {
   "cell_type": "code",
   "execution_count": null,
   "metadata": {},
   "outputs": [
    {
     "data": {
      "text/plain": [
       "b'U\\xc4\\xe2}\\x18\\x05f\\x00\\x00\\x00H\\x89\\xe5\\xc5\\xfc\\x11G`\\xc5\\xfc\\x11G@\\xc5\\xfc\\x11G \\xc5\\xfc\\x11\\x07\\xc5\\xfc\\x11\\x87\\xe0\\x00\\x00\\x00\\xc5\\xfc\\x11\\x87\\xc0\\x00\\x00\\x00\\xc5\\xfc\\x11\\x87\\xa0\\x00\\x00\\x00\\xc5\\xfc\\x11\\x87\\x80\\x00\\x00\\x00\\xc5\\xfc\\x11\\x87`\\x01\\x00\\x00\\xc5\\xfc\\x11\\x87@\\x01\\x00\\x00\\xc5\\xfc\\x11\\x87 \\x01\\x00\\x00\\xc5\\xfc\\x11\\x87\\x00\\x01\\x00\\x00\\xc5\\xf8\\x11\\x87\\x80\\x01\\x00\\x00]\\xc5\\xf8w\\xc3\\x00\\x00\\x00\\x03\\x00\\x00\\x00\\x00Ubuntu clang version 18.1.3 (1ubuntu1)\\x00'"
      ]
     },
     "execution_count": null,
     "metadata": {},
     "output_type": "execute_result"
    }
   ],
   "source": [
    "compiled_runner.lib"
   ]
  },
  {
   "cell_type": "code",
   "execution_count": null,
   "metadata": {},
   "outputs": [],
   "source": [
    "ei = lower_schedule_item(si)"
   ]
  },
  {
   "cell_type": "code",
   "execution_count": null,
   "metadata": {},
   "outputs": [],
   "source": []
  },
  {
   "cell_type": "code",
   "execution_count": null,
   "metadata": {},
   "outputs": [],
   "source": []
  },
  {
   "cell_type": "code",
   "execution_count": null,
   "metadata": {},
   "outputs": [
    {
     "name": "stdout",
     "output_type": "stream",
     "text": [
      "  Ops.CONTIGUOUS -> Ops.VIEW \n",
      "  Ops.ADD -> Ops.CONST 3\n",
      "  Ops.EXPAND -> Ops.CONST 2\n",
      "  Ops.RESHAPE -> Ops.CONST 2\n",
      "  Ops.EXPAND -> Ops.CONST 1\n",
      "  Ops.RESHAPE -> Ops.CONST 1\n"
     ]
    }
   ],
   "source": [
    "for k, v in becomes_map.items():\n",
    "    print(f\"  {k.op} -> {v.op} {v.arg if v.op is Ops.CONST else ''}\")"
   ]
  },
  {
   "cell_type": "code",
   "execution_count": null,
   "metadata": {},
   "outputs": [],
   "source": [
    "import pickle\n",
    "from os import getenv"
   ]
  },
  {
   "cell_type": "code",
   "execution_count": null,
   "metadata": {},
   "outputs": [],
   "source": [
    "PatternMatcher = tg.ops.TrackedPatternMatcher  # type: ignore\n",
    "def print_match_stats():\n",
    "    with open(fn:=tg.helpers.temp(\"rewrites.pkl\", append_user=True), \"wb\") as f:\n",
    "        print(f\"rewrote {len(tg.ops.tracked_ctxs)} graphs and matched {sum(len(r.matches) for x in tg.ops.tracked_ctxs for r in x)} times, saved to {fn}\")\n",
    "        with tg.helpers.Context(PICKLE_BUFFERS=0): pickle.dump((tg.ops.tracked_keys, tg.ops.tracked_ctxs), f)\n",
    "    # if getenv(\"VIZ\"): tg.ops.launch_viz(\"VIZ\", tg.helpers.temp(\"rewrites.pkl\", append_user=True))\n",
    "    # if getenv(\"PRINT_MATCH_STATS\", 1):\n",
    "    #     ret = [0,0,0.0,0.0]\n",
    "    #     for k,v in sorted(list(tg.ops.match_stats.items()), key=lambda x: x[1][2]+x[1][3]):\n",
    "    #         loc_str = f\"{k.location[0].split('/')[-1]}:{k.location[1]}\"\n",
    "    #         if v[1] != 0: print(f\"{v[0]:6d} / {v[1]:7d} -- {v[3]*1000.:9.2f} / {(v[2]+v[3])*1000.:9.2f} ms -- {loc_str:15s}\", k.printable())\n",
    "    #         ret = [x+y for x,y in zip(ret, v)]\n",
    "    #         print(f\"{ret[0]:6d} / {ret[1]:7d} -- {ret[3]*1000.:9.2f} / {(ret[2]+ret[3])*1000.:9.2f} ms -- TOTAL\")"
   ]
  },
  {
   "cell_type": "code",
   "execution_count": null,
   "metadata": {},
   "outputs": [
    {
     "name": "stdout",
     "output_type": "stream",
     "text": [
      "rewrote 0 graphs and matched 0 times, saved to /tmp/rewrites.pkl.xl0\n"
     ]
    }
   ],
   "source": [
    "print_match_stats()"
   ]
  }
 ],
 "metadata": {
  "kernelspec": {
   "display_name": "python3",
   "language": "python",
   "name": "python3"
  }
 },
 "nbformat": 4,
 "nbformat_minor": 2
}
