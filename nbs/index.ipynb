{
 "cells": [
  {
   "cell_type": "markdown",
   "metadata": {},
   "source": [
    "# My notes on TyniGrad internals"
   ]
  },
  {
   "cell_type": "markdown",
   "metadata": {},
   "source": [
    "Tinygrad: https://github.com/tinygrad/tinygrad\n",
    "\n",
    "Tinygrad notes by [mesozoic-egg](https://mesozoic-egg.github.io/tinygrad-notes/)\n",
    "\n",
    "- [0 - Introduction](https://xl0.github.io/tinygrad-notes/intro.html)\n",
    "- [1 - UOps](https://xl0.github.io/tinygrad-notes/uops.html)"
   ]
  }
 ],
 "metadata": {
  "kernelspec": {
   "display_name": "python3",
   "language": "python",
   "name": "python3"
  }
 },
 "nbformat": 4,
 "nbformat_minor": 4
}
