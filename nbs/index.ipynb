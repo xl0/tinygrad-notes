{
 "cells": [
  {
   "cell_type": "markdown",
   "metadata": {},
   "source": [
    "# My notes on TinyGrad internals"
   ]
  },
  {
   "cell_type": "markdown",
   "metadata": {},
   "source": [
    "Tinygrad source: [https://github.com/tinygrad/tinygrad](https://github.com/tinygrad/tinygrad)\n",
    "\n",
    "Tinygrad docs: [https://docs.tinygrad.org/](https://docs.tinygrad.org/)\n",
    "\n",
    "Written with help from good people in TinyGrad Discord, and a great deal of inspiration has been taken from [mesozoic-egg](https://mesozoic-egg.github.io/tinygrad-notes/).\n",
    "\n",
    "### Chapters\n",
    "- [0 - Introduction](https://xl0.github.io/tinygrad-notes/intro.html)\n",
    "- [1 - UOps](https://xl0.github.io/tinygrad-notes/uops.html)\n",
    "- [2 - View and ShapeTracker](https://xl0.github.io/tinygrad-notes/shapetracker.html)\n",
    "- [3 - The Pattern Matcher](https://xl0.github.io/tinygrad-notes/patternmatcher.html)\n",
    "- [4 - The `.arange()` insanity](https://xl0.github.io/tinygrad-notes/arange.html)\n",
    "\n",
    "### Appendices\n",
    "- [A: `helpers.py`](https://xl0.github.io/tinygrad-notes/appendix_a.html)\n",
    "- [B:  UOp Summary](https://xl0.github.io/tinygrad-notes/appendix_b.html)\n",
    "\n",
    "### Miscellaneous\n",
    "- [1 - `elf.py` and the ELF format](https://xl0.github.io/tinygrad-notes/misc_1.html)\n",
    "\n",
    "Reading order:\n",
    "\n",
    "- Scroll through Appendix A after reading the intro. It will make reading the code much easier\n",
    "- Scroll through Appendix B after reading the chapter of UOps"
   ]
  },
  {
   "cell_type": "markdown",
   "metadata": {},
   "source": [
    "If you want to contribute, install `nbdev`\n",
    "\n",
    "Run\n",
    "```bash\n",
    "nbdev_clean\n",
    "nbdev_docs\n",
    "```"
   ]
  }
 ],
 "metadata": {
  "kernelspec": {
   "display_name": "python3",
   "language": "python",
   "name": "python3"
  }
 },
 "nbformat": 4,
 "nbformat_minor": 4
}
