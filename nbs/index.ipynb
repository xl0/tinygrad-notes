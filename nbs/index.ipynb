{
 "cells": [
  {
   "cell_type": "markdown",
   "metadata": {},
   "source": [
    "# My notes on TyniGrad internals"
   ]
  },
  {
   "cell_type": "markdown",
   "metadata": {},
   "source": [
    "Tinygrad: [GitHub](https://github.com/tinygrad/tinygrad)\n",
    "Tinygrad: \n",
    "\n",
    "Tinygrad notes by [mesozoic-egg](https://mesozoic-egg.github.io/tinygrad-notes/)\n",
    "\n",
    "- [0 - Introduction](https://xl0.github.io/tinygrad-notes/intro.html)\n",
    "- [1 - UOps](https://xl0.github.io/tinygrad-notes/uops.html)\n",
    "- [1.1 - UOp full summary](https://xl0.github.io/tinygrad-notes/uops_annotated.html)\n",
    "- [2 - View and ShapeTracker](https://xl0.github.io/tinygrad-notes/shapetracker.html)\n",
    "- [3 - The Pattern Matcher](https://xl0.github.io/tinygrad-notes/patternmatcher.html)"
   ]
  }
 ],
 "metadata": {
  "kernelspec": {
   "display_name": "python3",
   "language": "python",
   "name": "python3"
  }
 },
 "nbformat": 4,
 "nbformat_minor": 4
}
