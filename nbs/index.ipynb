{
 "cells": [
  {
   "cell_type": "markdown",
   "metadata": {},
   "source": [
    "# Adventures with TinyGrad"
   ]
  },
  {
   "cell_type": "markdown",
   "metadata": {},
   "source": [
    "Tinygrad source: [https://github.com/tinygrad/tinygrad](https://github.com/tinygrad/tinygrad)\n",
    "\n",
    "Tinygrad docs: [https://docs.tinygrad.org/](https://docs.tinygrad.org/)\n",
    "\n",
    "Written with help from good people in TinyGrad Discord, and a great deal of inspiration has been taken from [mesozoic-egg](https://mesozoic-egg.github.io/tinygrad-notes/).\n",
    "\n",
    "### Chapters\n",
    "- [0 - Introduction](https://xl0.github.io/tinygrad-notes/intro.html)\n",
    "- [1 - UOps](https://xl0.github.io/tinygrad-notes/uops.html)\n",
    "- [2 - View and ShapeTracker](https://xl0.github.io/tinygrad-notes/shapetracker.html)\n",
    "- [3 - The Pattern Matcher](https://xl0.github.io/tinygrad-notes/patternmatcher.html)\n",
    "- [4 - The `.arange()` insanity](https://xl0.github.io/tinygrad-notes/arange.html)\n",
    "\n",
    "### Appendices\n",
    "- [A: `helpers.py`](https://xl0.github.io/tinygrad-notes/appendix_a.html)\n",
    "- [B:  UOp Summary](https://xl0.github.io/tinygrad-notes/appendix_b.html)\n",
    "\n",
    "### Miscellaneous\n",
    "- [1 - `elf.py` and the ELF format](https://xl0.github.io/tinygrad-notes/misc_1.html)\n",
    "- [2 - CUDA Runtime library](https://xl0.github.io/tinygrad-notes/misc_2.html)\n",
    "- [3 - Bounty hunt](https://xl0.github.io/tinygrad-notes/bounty1.html)\n",
    "\n",
    "Reading order:\n",
    "\n",
    "- Scroll through Appendix A after reading the intro. It will make reading the code much easier\n",
    "- Scroll through Appendix B after reading the chapter of UOps"
   ]
  },
  {
   "cell_type": "markdown",
   "metadata": {},
   "source": [
    "If you want to contribute, install `nbdev`\n",
    "\n",
    "Run\n",
    "```bash\n",
    "nbdev_clean\n",
    "nbdev_docs\n",
    "```"
   ]
  },
  {
   "cell_type": "markdown",
   "metadata": {},
   "source": [
    "<blockquote>\n",
    "<p></br>\n",
    "I am not a madman for saying that it is likely that the code for Artificial General Intelligence is going to be tens of thousands of lines of code,\n",
    "not millions of lines of code.</br>This is code that conceivably one individual could write, unlike writing a new web browser or operating system.</br>\n",
    "And based on the progress that AI machine learning has made in the recent decade, it's likely that the important things that we don't know are relatively simple.\n",
    "</p>\n",
    "<footer>— <a href=\"https://www.youtube.com/watch?v=I845O57ZSy4&t=14576s\">John Carmack</footer>\n",
    "</blockquote>"
   ]
  },
  {
   "cell_type": "markdown",
   "metadata": {},
   "source": [
    "[![](https://alexey.work/badge)](https://alexey.work?ref=tgn)"
   ]
  }
 ],
 "metadata": {
  "kernelspec": {
   "display_name": "python3",
   "language": "python",
   "name": "python3"
  }
 },
 "nbformat": 4,
 "nbformat_minor": 4
}
