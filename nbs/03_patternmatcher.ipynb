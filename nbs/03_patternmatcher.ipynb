{
 "cells": [
  {
   "cell_type": "markdown",
   "metadata": {},
   "source": [
    "# 3 - The Pattern Matcher"
   ]
  },
  {
   "cell_type": "markdown",
   "metadata": {},
   "source": [
    "Our next TinyGrad abstraction is the Pattern Matcher (PM)\n",
    "\n",
    "PM is used all over TinyGrad for different purposes"
   ]
  },
  {
   "cell_type": "code",
   "execution_count": null,
   "metadata": {},
   "outputs": [],
   "source": [
    "#| hide\n",
    "from nbdev.showdoc import *\n",
    "import nbdev; nbdev.nbdev_export()"
   ]
  },
  {
   "cell_type": "code",
   "execution_count": null,
   "metadata": {},
   "outputs": [],
   "source": [
    "import os\n",
    "os.environ[\"CPU\"] = \"1\"\n",
    "os.environ[\"DEBUG\"]=\"4\"\n",
    "\n",
    "from tinygrad import Tensor, dtypes\n",
    "from tinygrad.ops import UOp, Ops, PatternMatcher, UPat, graph_rewrite"
   ]
  },
  {
   "cell_type": "code",
   "execution_count": null,
   "metadata": {},
   "outputs": [
    {
     "data": {
      "text/plain": [
       "UOp(Ops.ADD, dtypes.int, arg=None, src=(\n",
       "  UOp(Ops.MUL, dtypes.int, arg=None, src=(\n",
       "    UOp(Ops.CONST, dtypes.int, arg=2, src=(\n",
       "      x2:=UOp(Ops.VIEW, dtypes.void, arg=ShapeTracker(views=(View(shape=(), strides=(), offset=0, mask=None, contiguous=True),)), src=(\n",
       "        UOp(Ops.DEVICE, dtypes.void, arg='CPU', src=()),)),)),\n",
       "    UOp(Ops.CONST, dtypes.int, arg=5, src=(\n",
       "       x2,)),)),\n",
       "  UOp(Ops.CONST, dtypes.int, arg=1, src=(\n",
       "     x2,)),))"
      ]
     },
     "execution_count": null,
     "metadata": {},
     "output_type": "execute_result"
    }
   ],
   "source": [
    "a = (Tensor(2) * 5 + 1).lazydata\n",
    "a"
   ]
  },
  {
   "cell_type": "markdown",
   "metadata": {},
   "source": [
    "The PM operates on a list of rules.\n",
    "\n",
    "Each rule consists of a `UPat`, and a function that is called when the pattern matches part of the tree.\n",
    "\n",
    "The return value of the function is the result of the match, or it's a None if no match was found among the rules:"
   ]
  },
  {
   "cell_type": "code",
   "execution_count": null,
   "metadata": {},
   "outputs": [
    {
     "data": {
      "text/plain": [
       "['a DEVICE Uop',\n",
       " None,\n",
       " 'Got a CONST dtype dtypes.int arg 2',\n",
       " 'Got a CONST dtype dtypes.int arg 5',\n",
       " 'ADD or MUL',\n",
       " 'Got a CONST dtype dtypes.int arg 1',\n",
       " 'ADD or MUL']"
      ]
     },
     "execution_count": null,
     "metadata": {},
     "output_type": "execute_result"
    }
   ],
   "source": [
    "test_rules = PatternMatcher([\n",
    "    (UPat(Ops.DEVICE), lambda: \"a DEVICE Uop\"),                                         # This rule matches any `DEVICE` UOp\n",
    "    (UPat(Ops.CONST, name=\"x\"), lambda x: f\"Got a CONST dtype {x.dtype} arg {x.arg}\"),  # Can pass the Op to the function\n",
    "    (UPat(Ops.CONST), lambda x: f\"Another rule for CONST\"),                             # Oops, only one rule can match!\n",
    "    (UPat((Ops.ADD, Ops.MUL)), lambda: \"ADD or MUL\"),                                   # Can match more than one UOp type\n",
    "    (UPat(Ops.EXPAND, src=(UPat(Ops.RESHAPE, src=UPat(Ops.CONST, arg=2)))),\n",
    "        lambda: \"Expand with reshape from a const with arg=2\")                          # Can match a specific sub-tree.\n",
    "                                                                                        # Note: This one only matches the EXPAND for 2, not 1\n",
    "    # No match - return Null\n",
    "])\n",
    "\n",
    "[test_rules.rewrite(op) for op in a.toposort]"
   ]
  },
  {
   "cell_type": "markdown",
   "metadata": {},
   "source": [
    "### Rewriting trees\n",
    "\n",
    "A more interesting pattern is to replace the matched UOps with some other UOps. We can also use `graph_rewrite` to operate on a tree."
   ]
  },
  {
   "cell_type": "code",
   "execution_count": null,
   "metadata": {},
   "outputs": [
    {
     "data": {
      "text/plain": [
       "UOp(Ops.SUB, dtypes.int, arg=None, src=(\n",
       "  UOp(Ops.IDIV, dtypes.int, arg=None, src=(\n",
       "    UOp(Ops.CONST, dtypes.int, arg=2, src=(\n",
       "      x2:=UOp(Ops.VIEW, dtypes.void, arg=ShapeTracker(views=(View(shape=(), strides=(), offset=0, mask=None, contiguous=True),)), src=(\n",
       "        UOp(Ops.DEVICE, dtypes.void, arg='CPU', src=()),)),)),\n",
       "    UOp(Ops.CONST, dtypes.int, arg=5, src=(\n",
       "       x2,)),)),\n",
       "  UOp(Ops.CONST, dtypes.int, arg=1, src=(\n",
       "     x2,)),))"
      ]
     },
     "execution_count": null,
     "metadata": {},
     "output_type": "execute_result"
    }
   ],
   "source": [
    "insanity = PatternMatcher([\n",
    "    (UPat(Ops.ADD, name=\"x\"), lambda x: UOp(Ops.SUB, dtype=x.dtype, arg=x.arg, src=x.src)),\n",
    "    (UPat(Ops.MUL, dtype=dtypes.ints, name=\"x\"), lambda x: UOp(Ops.IDIV, dtype=x.dtype, src=x.src))\n",
    "])\n",
    "\n",
    "rewritten = graph_rewrite(a, insanity)\n",
    "rewritten"
   ]
  },
  {
   "cell_type": "code",
   "execution_count": null,
   "metadata": {},
   "outputs": [
    {
     "data": {
      "text/plain": [
       "'((2*5)+1)'"
      ]
     },
     "execution_count": null,
     "metadata": {},
     "output_type": "execute_result"
    }
   ],
   "source": [
    "a.render(simplify=False)"
   ]
  },
  {
   "cell_type": "code",
   "execution_count": null,
   "metadata": {},
   "outputs": [
    {
     "data": {
      "text/plain": [
       "'((2//5)-1)'"
      ]
     },
     "execution_count": null,
     "metadata": {},
     "output_type": "execute_result"
    }
   ],
   "source": [
    "rewritten.render(simplify=False)"
   ]
  },
  {
   "cell_type": "code",
   "execution_count": null,
   "metadata": {},
   "outputs": [
    {
     "data": {
      "text/plain": [
       "-1"
      ]
     },
     "execution_count": null,
     "metadata": {},
     "output_type": "execute_result"
    }
   ],
   "source": [
    "int(rewritten)"
   ]
  },
  {
   "cell_type": "markdown",
   "metadata": {},
   "source": [
    "### PatternMatcher in TinyGrad\n",
    "\n",
    "I think you get the idea. The Pattern Matches is a powerful tool that is used throughout Tinygrad.\n",
    "\n",
    "When we played with `Tensor.schedule_with_vars()` and `lower_schedule_item()` in the [chapter on UOps](uops.html#uop-to-code),\n",
    "both function made extensive use of many Pattern Matchers. We will attempt a deep dive into their details in the next chapter.\n",
    "\n",
    "#### TinyGrad spec\n",
    "\n",
    "Another use for the Pattern Matcher - checking the validity of UOp trees, according to the `spec`, , found in [tinyngrad/spec.py](https://github.com/tinygrad/tinygrad/blob/962c0f65f893862b7af999027f6977dd58d6c1f3/tinygrad/spec.py).\n",
    "\n",
    "It's very much possible to create UOp trees that are not valid in general, or not valid at certain stages of processing.\n",
    "\n",
    "The spec contains rules that check for silly mistakes in different types of (sub-)trees.\n",
    "\n",
    "For example thre is a `tensor_uop_spec` for sanity checking the UOp trees created by tensor operations:"
   ]
  },
  {
   "cell_type": "code",
   "execution_count": null,
   "metadata": {},
   "outputs": [
    {
     "data": {
      "text/plain": [
       "UOp(Ops.ADD, dtypes.int, arg=None, src=(\n",
       "  UOp(Ops.MUL, dtypes.int, arg=None, src=(\n",
       "    UOp(Ops.CONST, dtypes.int, arg=2, src=(\n",
       "      x2:=UOp(Ops.VIEW, dtypes.void, arg=ShapeTracker(views=(View(shape=(), strides=(), offset=0, mask=None, contiguous=True),)), src=(\n",
       "        UOp(Ops.DEVICE, dtypes.void, arg='CPU', src=()),)),)),\n",
       "    UOp(Ops.CONST, dtypes.int, arg=5, src=(\n",
       "       x2,)),)),\n",
       "  UOp(Ops.CONST, dtypes.int, arg=1, src=(\n",
       "     x2,)),))"
      ]
     },
     "execution_count": null,
     "metadata": {},
     "output_type": "execute_result"
    }
   ],
   "source": [
    "a"
   ]
  },
  {
   "cell_type": "code",
   "execution_count": null,
   "metadata": {},
   "outputs": [],
   "source": [
    "from tinygrad.spec import type_verify, tensor_uop_spec\n",
    "\n",
    "type_verify(list(a.toposort.keys()), tensor_uop_spec) # It throws on errors, no errors found!"
   ]
  },
  {
   "cell_type": "markdown",
   "metadata": {},
   "source": [
    "Let's make a broken tree by changing the dtype of the `ADD` UOp in `a` to `float`:"
   ]
  },
  {
   "cell_type": "code",
   "execution_count": null,
   "metadata": {},
   "outputs": [
    {
     "data": {
      "text/plain": [
       "UOp(Ops.ADD, dtypes.float, arg=None, src=(\n",
       "  UOp(Ops.MUL, dtypes.int, arg=None, src=(\n",
       "    UOp(Ops.CONST, dtypes.int, arg=2, src=(\n",
       "      x2:=UOp(Ops.VIEW, dtypes.void, arg=ShapeTracker(views=(View(shape=(), strides=(), offset=0, mask=None, contiguous=True),)), src=(\n",
       "        UOp(Ops.DEVICE, dtypes.void, arg='CPU', src=()),)),)),\n",
       "    UOp(Ops.CONST, dtypes.int, arg=5, src=(\n",
       "       x2,)),)),\n",
       "  UOp(Ops.CONST, dtypes.int, arg=1, src=(\n",
       "     x2,)),))"
      ]
     },
     "execution_count": null,
     "metadata": {},
     "output_type": "execute_result"
    }
   ],
   "source": [
    "bad = a.replace(dtype=dtypes.float)\n",
    "bad"
   ]
  },
  {
   "cell_type": "markdown",
   "metadata": {},
   "source": [
    "This is not a valid tree - we are adding 2 ints, but the result is a float? There would need to be a cast there!"
   ]
  },
  {
   "cell_type": "code",
   "execution_count": null,
   "metadata": {},
   "outputs": [
    {
     "name": "stdout",
     "output_type": "stream",
     "text": [
      "   0 Ops.DEVICE          : dtypes.void                    []                               CPU\n",
      "   1 Ops.VIEW            : dtypes.void                    [0]                              ShapeTracker(views=(View(shape=(), strides=(), offset=0, mask=None, contiguous=True),))\n",
      "   2 Ops.CONST           : dtypes.int                     [1]                              2\n",
      "   3 Ops.CONST           : dtypes.int                     [1]                              5\n",
      "   4 Ops.MUL             : dtypes.int                     ['2', '5']                       None\n",
      "   5 Ops.CONST           : dtypes.int                     [1]                              1\n",
      "   6 Ops.ADD             : dtypes.float                   [4, '1']                         None\n",
      "RuntimeError: UOp verification failed at 6 on Ops.ADD dtypes.float 2 [<Ops.MUL: 50>, <Ops.CONST: 76>] None\n"
     ]
    }
   ],
   "source": [
    "try:\n",
    "    type_verify(list(bad.toposort.keys()), tensor_uop_spec)\n",
    "except Exception as e:\n",
    "    print(f\"{type(e).__name__}: {' '.join(e.args)}\")"
   ]
  },
  {
   "cell_type": "markdown",
   "metadata": {},
   "source": [
    "Indeed, we caught the error. Let's fix the tree by casting the 2 `ADD` sources to a float."
   ]
  },
  {
   "cell_type": "code",
   "execution_count": null,
   "metadata": {},
   "outputs": [
    {
     "data": {
      "text/plain": [
       "UOp(Ops.ADD, dtypes.float, arg=None, src=(\n",
       "  UOp(Ops.CAST, dtypes.float, arg=None, src=(\n",
       "    UOp(Ops.MUL, dtypes.int, arg=None, src=(\n",
       "      UOp(Ops.CONST, dtypes.int, arg=2, src=(\n",
       "        x3:=UOp(Ops.VIEW, dtypes.void, arg=ShapeTracker(views=(View(shape=(), strides=(), offset=0, mask=None, contiguous=True),)), src=(\n",
       "          UOp(Ops.DEVICE, dtypes.void, arg='CPU', src=()),)),)),\n",
       "      UOp(Ops.CONST, dtypes.int, arg=5, src=(\n",
       "         x3,)),)),)),\n",
       "  UOp(Ops.CAST, dtypes.float, arg=None, src=(\n",
       "    UOp(Ops.CONST, dtypes.int, arg=1, src=(\n",
       "       x3,)),)),))"
      ]
     },
     "execution_count": null,
     "metadata": {},
     "output_type": "execute_result"
    }
   ],
   "source": [
    "fixed = bad.replace(src=tuple([UOp(Ops.CAST, dtype=dtypes.float, src=(src,)) for src in bad.src]))\n",
    "fixed"
   ]
  },
  {
   "cell_type": "code",
   "execution_count": null,
   "metadata": {},
   "outputs": [],
   "source": [
    "type_verify(list(fixed.toposort.keys()), tensor_uop_spec)"
   ]
  },
  {
   "cell_type": "markdown",
   "metadata": {},
   "source": [
    "Now it works!"
   ]
  }
 ],
 "metadata": {
  "kernelspec": {
   "display_name": "python3",
   "language": "python",
   "name": "python3"
  }
 },
 "nbformat": 4,
 "nbformat_minor": 2
}
