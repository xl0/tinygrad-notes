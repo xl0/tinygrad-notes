{
 "cells": [
  {
   "cell_type": "markdown",
   "metadata": {},
   "source": [
    "# 03 - The Pattern Matcher\n",
    "\n",
    "The next step is to progressively rewrite the UOp tree using the Pattern Matcher (PM).\n",
    "\n",
    "The PM is used all over TinyGrad for different purposes, and I will cover it in greater detail later, but let's take a quick peek."
   ]
  },
  {
   "cell_type": "code",
   "execution_count": null,
   "metadata": {},
   "outputs": [],
   "source": [
    "from tinygrad.ops import PatternMatcher, UPat, graph_rewrite"
   ]
  },
  {
   "cell_type": "markdown",
   "metadata": {},
   "source": [
    "The PM operates on a list of rules.\n",
    "\n",
    "Each rule consists of a `UPat`, and a function that is called when the pattern matches part of the tree.\n",
    "\n",
    "The return value of the function is the result of the \"match\"."
   ]
  },
  {
   "cell_type": "code",
   "execution_count": null,
   "metadata": {},
   "outputs": [
    {
     "ename": "NameError",
     "evalue": "name 'a_sink' is not defined",
     "output_type": "error",
     "traceback": [
      "\u001b[31m---------------------------------------------------------------------------\u001b[39m\n",
      "\u001b[31mNameError\u001b[39m                                 Traceback (most recent call last)\n",
      "\u001b[36mCell\u001b[39m\u001b[36m \u001b[39m\u001b[32mIn[24]\u001b[39m\u001b[32m, line 12\u001b[39m\n",
      "\u001b[32m      1\u001b[39m test_rules = PatternMatcher([\n",
      "\u001b[32m      2\u001b[39m     (UPat(Ops.SINK), \u001b[38;5;28;01mlambda\u001b[39;00m: \u001b[33m\"\u001b[39m\u001b[33mU stink\u001b[39m\u001b[33m\"\u001b[39m),                                                \u001b[38;5;66;03m# This rule matches any `SINK` UOp\u001b[39;00m\n",
      "\u001b[32m      3\u001b[39m     (UPat(Ops.CONST, name=\u001b[33m\"\u001b[39m\u001b[33mx\u001b[39m\u001b[33m\"\u001b[39m), \u001b[38;5;28;01mlambda\u001b[39;00m x: \u001b[33mf\u001b[39m\u001b[33m\"\u001b[39m\u001b[33mGot a CONST dtype \u001b[39m\u001b[38;5;132;01m{\u001b[39;00mx.dtype\u001b[38;5;132;01m}\u001b[39;00m\u001b[33m arg \u001b[39m\u001b[38;5;132;01m{\u001b[39;00mx.arg\u001b[38;5;132;01m}\u001b[39;00m\u001b[33m\"\u001b[39m),  \u001b[38;5;66;03m# Can pass the Op to the function\u001b[39;00m\n",
      "\u001b[32m   (...)\u001b[39m\u001b[32m      9\u001b[39m     \u001b[38;5;66;03m# No match - return Null\u001b[39;00m\n",
      "\u001b[32m     10\u001b[39m ])\n",
      "\u001b[32m---> \u001b[39m\u001b[32m12\u001b[39m [test_rules.rewrite(op) \u001b[38;5;28;01mfor\u001b[39;00m op \u001b[38;5;129;01min\u001b[39;00m \u001b[43ma_sink\u001b[49m.toposort]\n",
      "\n",
      "\u001b[31mNameError\u001b[39m: name 'a_sink' is not defined"
     ]
    }
   ],
   "source": [
    "test_rules = PatternMatcher([\n",
    "    (UPat(Ops.SINK), lambda: \"U stink\"),                                                # This rule matches any `SINK` UOp\n",
    "    (UPat(Ops.CONST, name=\"x\"), lambda x: f\"Got a CONST dtype {x.dtype} arg {x.arg}\"),  # Can pass the Op to the function\n",
    "    (UPat(Ops.CONST), lambda x: f\"Another rule for CONST\"),                             # Oops, only one rule can match!\n",
    "    (UPat((Ops.ADD, Ops.MUL)), lambda: \"ADD or MUL\"),                                   # Can match more than one UOp type\n",
    "    (UPat(Ops.EXPAND, src=(UPat(Ops.RESHAPE, src=UPat(Ops.CONST, arg=2)))),\n",
    "        lambda: \"Expand with reshape from a const with arg=2\")                          # Can match a specific sub-tree.\n",
    "                                                                                        # Note: This one only matches the EXPAND for 2, not 1\n",
    "    # No match - return Null\n",
    "])\n",
    "\n",
    "[test_rules.rewrite(op) for op in a_sink.toposort]"
   ]
  },
  {
   "cell_type": "markdown",
   "metadata": {},
   "source": [
    "A more interesting pattern is to replace the matched UOps with some other UOps. We can also use `graph_rewrite` to operate on a tree."
   ]
  },
  {
   "cell_type": "code",
   "execution_count": null,
   "metadata": {},
   "outputs": [
    {
     "data": {
      "text/plain": [
       "UOp(Ops.SUB, dtypes.int, arg=None, src=(\n",
       "  UOp(Ops.IDIV, dtypes.int, arg=None, src=(\n",
       "    UOp(Ops.CONST, dtypes.int, arg=3, src=()),\n",
       "    UOp(Ops.CONST, dtypes.int, arg=5, src=()),)),\n",
       "  UOp(Ops.CONST, dtypes.int, arg=2, src=()),))"
      ]
     },
     "metadata": {},
     "output_type": "display_data"
    }
   ],
   "source": [
    "insanity = PatternMatcher([\n",
    "    (UPat(Ops.ADD, name=\"x\"), lambda x: UOp(Ops.SUB, dtype=x.dtype, arg=x.arg, src=x.src)),\n",
    "    (UPat(Ops.MUL, dtype=dtypes.ints, name=\"x\"), lambda x: UOp(Ops.IDIV, dtype=x.dtype, src=x.src))\n",
    "])\n",
    "\n",
    "rewritten = graph_rewrite(add1, insanity)\n",
    "rewritten"
   ]
  },
  {
   "cell_type": "code",
   "execution_count": null,
   "metadata": {},
   "outputs": [
    {
     "data": {
      "text/plain": [
       "-2"
      ]
     },
     "metadata": {},
     "output_type": "display_data"
    }
   ],
   "source": [
    "int(rewritten)"
   ]
  }
 ],
 "metadata": {
  "language_info": {
   "name": "python"
  }
 },
 "nbformat": 4,
 "nbformat_minor": 2
}
